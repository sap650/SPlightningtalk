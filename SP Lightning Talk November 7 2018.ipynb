{
 "cells": [
  {
   "cell_type": "markdown",
   "metadata": {},
   "source": [
    "# SP Lightning Talk: Boolean numpy arrays and np.newaxis"
   ]
  },
  {
   "cell_type": "markdown",
   "metadata": {},
   "source": [
    "A Boolean numpy array is a numpy array with true/false values"
   ]
  },
  {
   "cell_type": "code",
   "execution_count": 17,
   "metadata": {},
   "outputs": [
    {
     "name": "stdout",
     "output_type": "stream",
     "text": [
      "[[False False False  True]\n",
      " [False False False False]\n",
      " [False False False False]]\n"
     ]
    }
   ],
   "source": [
    "import numpy as np\n",
    "A = np.array([[1,2,3,4],\n",
    "              [5,6,7,8],\n",
    "              [9,10,11,12]])\n",
    "print(A == 4) #Print the Boolean elements of a result array"
   ]
  },
  {
   "cell_type": "markdown",
   "metadata": {},
   "source": [
    "You can combine Boolean arrays using logical operators"
   ]
  },
  {
   "cell_type": "code",
   "execution_count": 6,
   "metadata": {},
   "outputs": [
    {
     "name": "stdout",
     "output_type": "stream",
     "text": [
      "array A:\n",
      "[[ 1  2  3  4]\n",
      " [ 5  6  7  8]\n",
      " [ 9 10 11 12]]\n",
      "\n",
      "array B:\n",
      "[[ True False  True False]\n",
      " [ True False  True False]\n",
      " [ True False  True False]]\n"
     ]
    }
   ],
   "source": [
    "#Test which elements of A are not divisible by 2\n",
    "\n",
    "B = ~(A%2 == 0) \n",
    "\n",
    "print('array A:\\n{}\\n'.format(A))\n",
    "print('array B:\\n{}'.format(B))"
   ]
  },
  {
   "cell_type": "markdown",
   "metadata": {},
   "source": [
    "Indexing with a Boolean array: \n",
    "\n",
    "Boolean arrays can be used to select elements of other numpy arrays. If A is any numpy array and C is a boolean array of the same dimensions then A[C] selects all elements of A for which the corresponding value of C is True."
   ]
  },
  {
   "cell_type": "code",
   "execution_count": 7,
   "metadata": {},
   "outputs": [
    {
     "name": "stdout",
     "output_type": "stream",
     "text": [
      "[[False  True False  True]\n",
      " [False  True False  True]\n",
      " [False  True False  True]]\n"
     ]
    }
   ],
   "source": [
    "#Test which elements of A are even\n",
    "\n",
    "C = (A%2 == 0) \n",
    "print(C)"
   ]
  },
  {
   "cell_type": "code",
   "execution_count": 8,
   "metadata": {},
   "outputs": [
    {
     "name": "stdout",
     "output_type": "stream",
     "text": [
      "[ 2  4  6  8 10 12]\n"
     ]
    }
   ],
   "source": [
    "# select all even elements of the array A\n",
    "\n",
    "print(A[C]) "
   ]
  },
  {
   "cell_type": "markdown",
   "metadata": {},
   "source": [
    "Add dimensions to an array using numpy.newaxis\n",
    "\n",
    "newaxis increases the dimension of an existing array by one more dimension. (eg. a 1D array will become a 2D array, a 2D array will become a 3D array)."
   ]
  },
  {
   "cell_type": "code",
   "execution_count": 19,
   "metadata": {},
   "outputs": [],
   "source": [
    "#Eg. try adding two numpy arrays with different dimensions\n",
    "\n",
    "D = np.array([1, 2, 3, 4, 5])\n",
    "E = np.array([5, 4, 3])"
   ]
  },
  {
   "cell_type": "code",
   "execution_count": 16,
   "metadata": {},
   "outputs": [
    {
     "name": "stdout",
     "output_type": "stream",
     "text": [
      "[[ 6  5  4]\n",
      " [ 7  6  5]\n",
      " [ 8  7  6]\n",
      " [ 9  8  7]\n",
      " [10  9  8]]\n"
     ]
    }
   ],
   "source": [
    "#use np.newaxis to increase the dimension of one array so that these can be added\n",
    "\n",
    "D_new = D[:, np.newaxis]\n",
    "\n",
    "print (D_new+E)"
   ]
  }
 ],
 "metadata": {
  "kernelspec": {
   "display_name": "Python 3",
   "language": "python",
   "name": "python3"
  },
  "language_info": {
   "codemirror_mode": {
    "name": "ipython",
    "version": 3
   },
   "file_extension": ".py",
   "mimetype": "text/x-python",
   "name": "python",
   "nbconvert_exporter": "python",
   "pygments_lexer": "ipython3",
   "version": "3.6.6"
  }
 },
 "nbformat": 4,
 "nbformat_minor": 2
}
